{
 "cells": [
  {
   "cell_type": "code",
   "execution_count": 4,
   "id": "3994b654",
   "metadata": {},
   "outputs": [
    {
     "ename": "ModuleNotFoundError",
     "evalue": "No module named 'QRS_util'",
     "output_type": "error",
     "traceback": [
      "\u001b[0;31m---------------------------------------------------------------------------\u001b[0m",
      "\u001b[0;31mModuleNotFoundError\u001b[0m                       Traceback (most recent call last)",
      "\u001b[0;32m/var/folders/2v/rqzdmr5s1q1d9vqx9sm4tn600000gn/T/ipykernel_6072/4284080166.py\u001b[0m in \u001b[0;36m<module>\u001b[0;34m\u001b[0m\n\u001b[1;32m      1\u001b[0m \u001b[0;32mimport\u001b[0m \u001b[0mos\u001b[0m\u001b[0;34m\u001b[0m\u001b[0;34m\u001b[0m\u001b[0m\n\u001b[1;32m      2\u001b[0m \u001b[0;32mimport\u001b[0m \u001b[0msys\u001b[0m\u001b[0;34m\u001b[0m\u001b[0;34m\u001b[0m\u001b[0m\n\u001b[0;32m----> 3\u001b[0;31m \u001b[0;32mfrom\u001b[0m \u001b[0mQRS_util\u001b[0m \u001b[0;32mimport\u001b[0m\u001b[0;34m*\u001b[0m\u001b[0;34m\u001b[0m\u001b[0;34m\u001b[0m\u001b[0m\n\u001b[0m\u001b[1;32m      4\u001b[0m \u001b[0;34m\u001b[0m\u001b[0m\n\u001b[1;32m      5\u001b[0m '''\n",
      "\u001b[0;31mModuleNotFoundError\u001b[0m: No module named 'QRS_util'"
     ]
    }
   ],
   "source": [
    "import os\n",
    "import sys\n",
    "from QRS_util import*\n",
    "\n",
    "'''\n",
    "QRS detection demo \n",
    "@author: Kemeng Chen: kemengchen@email.arizona.edu\n",
    "'''\n",
    "\n",
    "def QRS_test(file_name):\n",
    "\t'''\n",
    "\tQRS detection on file_name\n",
    "\tassuming 360 Hz sampling rate, may not work with very low sampling rate signal\n",
    "\targs:\n",
    "\t\tfile_name: file containing ecg data in one column\n",
    "\t'''\n",
    "\tfs=360\n",
    "\tfile_path=os.path.join(os.getcwd(), 'data', file_name)\n",
    "\tif not os.path.isfile(file_path):\n",
    "\t\traise AssertionError(file_path, 'not exists')\n",
    "\tecg=read_ecg(file_path)\n",
    "\tR_peaks, S_pint, Q_point=EKG_QRS_detect(ecg, fs, False, True)\n",
    "\n",
    "if __name__ == '__main__':\n",
    "\tif len(sys.argv)<2:\n",
    "\t\traise ValueError('No file name specified')\n",
    "\tQRS_test(sys.argv[1])"
   ]
  },
  {
   "cell_type": "code",
   "execution_count": null,
   "id": "58cb72fa",
   "metadata": {},
   "outputs": [],
   "source": []
  }
 ],
 "metadata": {
  "kernelspec": {
   "display_name": "Python 3 (ipykernel)",
   "language": "python",
   "name": "python3"
  },
  "language_info": {
   "codemirror_mode": {
    "name": "ipython",
    "version": 3
   },
   "file_extension": ".py",
   "mimetype": "text/x-python",
   "name": "python",
   "nbconvert_exporter": "python",
   "pygments_lexer": "ipython3",
   "version": "3.9.13"
  }
 },
 "nbformat": 4,
 "nbformat_minor": 5
}
