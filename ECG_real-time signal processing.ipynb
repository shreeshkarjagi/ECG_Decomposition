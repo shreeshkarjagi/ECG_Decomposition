{
 "cells": [
  {
   "cell_type": "code",
   "execution_count": 4,
   "id": "7683944c",
   "metadata": {},
   "outputs": [
    {
     "ename": "ModuleNotFoundError",
     "evalue": "No module named 'pyfirmata'",
     "output_type": "error",
     "traceback": [
      "\u001b[0;31m---------------------------------------------------------------------------\u001b[0m",
      "\u001b[0;31mModuleNotFoundError\u001b[0m                       Traceback (most recent call last)",
      "\u001b[0;32m/var/folders/2v/rqzdmr5s1q1d9vqx9sm4tn600000gn/T/ipykernel_28107/4022743447.py\u001b[0m in \u001b[0;36m<module>\u001b[0;34m\u001b[0m\n\u001b[1;32m      2\u001b[0m \u001b[0;32mfrom\u001b[0m \u001b[0mmatplotlib\u001b[0m \u001b[0;32mimport\u001b[0m \u001b[0mpyplot\u001b[0m \u001b[0;32mas\u001b[0m \u001b[0mplt\u001b[0m\u001b[0;34m\u001b[0m\u001b[0;34m\u001b[0m\u001b[0m\n\u001b[1;32m      3\u001b[0m \u001b[0;32mfrom\u001b[0m \u001b[0mmatplotlib\u001b[0m\u001b[0;34m.\u001b[0m\u001b[0manimation\u001b[0m \u001b[0;32mimport\u001b[0m \u001b[0mFuncAnimation\u001b[0m\u001b[0;34m\u001b[0m\u001b[0;34m\u001b[0m\u001b[0m\n\u001b[0;32m----> 4\u001b[0;31m \u001b[0;32mimport\u001b[0m \u001b[0mpyfirmata\u001b[0m\u001b[0;34m\u001b[0m\u001b[0;34m\u001b[0m\u001b[0m\n\u001b[0m\u001b[1;32m      5\u001b[0m \u001b[0;32mimport\u001b[0m \u001b[0mnumpy\u001b[0m \u001b[0;32mas\u001b[0m \u001b[0mnp\u001b[0m\u001b[0;34m\u001b[0m\u001b[0;34m\u001b[0m\u001b[0m\n\u001b[1;32m      6\u001b[0m \u001b[0;32mfrom\u001b[0m \u001b[0mscipy\u001b[0m\u001b[0;34m.\u001b[0m\u001b[0msignal\u001b[0m \u001b[0;32mimport\u001b[0m \u001b[0mbutter\u001b[0m\u001b[0;34m,\u001b[0m \u001b[0mfiltfilt\u001b[0m\u001b[0;34m,\u001b[0m \u001b[0mfind_peaks\u001b[0m\u001b[0;34m,\u001b[0m \u001b[0mcorrelate\u001b[0m\u001b[0;34m,\u001b[0m \u001b[0mresample\u001b[0m\u001b[0;34m\u001b[0m\u001b[0;34m\u001b[0m\u001b[0m\n",
      "\u001b[0;31mModuleNotFoundError\u001b[0m: No module named 'pyfirmata'"
     ]
    }
   ],
   "source": [
    "# Import necessary libraries\n",
    "from matplotlib import pyplot as plt\n",
    "from matplotlib.animation import FuncAnimation\n",
    "import pyfirmata\n",
    "import numpy as np\n",
    "from scipy.signal import butter, filtfilt, find_peaks, correlate, resample\n",
    "from sklearn.cluster import KMeans\n",
    "\n",
    "# Initialize the Arduino board and pin for reading the analog input\n",
    "board = pyfirmata.Arduino('/dev/cu.usbmodem11201') # Type Port Name here\n",
    "it = pyfirmata.util.Iterator(board)\n",
    "it.start()\n",
    "analogInput = board.get_pin('a:0:i') # Type pin number here, A0 input = a:0:i\n",
    "\n",
    "# Set up the figure and axes for plotting\n",
    "figure, ax = plt.subplots(nrows=1, ncols=1)\n",
    "plt.title('Real-time ECG Signal Processing')\n",
    "plt.xlabel('Time (s)')\n",
    "plt.ylabel('Voltage (mV)')\n",
    "windowSize = 10 # Type Window Size here\n",
    "\n",
    "ax.set_xlim([0, windowSize])\n",
    "ax.set_ylim([-1.5, 1.5])\n",
    "y_data = []\n",
    "peaks = []\n",
    "\n",
    "# Create empty lines for the three different data plots\n",
    "line1, = ax.plot([], [], 'b-')\n",
    "line2, = ax.plot([], [], 'r-')\n",
    "line3, = ax.plot([], [], 'g-')\n",
    "\n",
    "# Add legend to the plot\n",
    "ax.legend([line1, line2, line3], ['Raw Data', 'Filtered Data', 'QRS Complexes'])\n",
    "\n",
    "# Define a function to smooth the data using a moving average filter\n",
    "def smooth(x, N):\n",
    "    cumSum = np.cumsum(np.insert(x, 0, 0))\n",
    "    return (cumSum[N:] - cumSum[:-N]) / float(N)\n",
    "\n",
    "# Define a function to filter the data using a band-pass filter\n",
    "def bandpass_filter(data, lowcut, highcut, fs, order=2):\n",
    "    nyquist = 0.5 * fs\n",
    "    low = lowcut / nyquist\n",
    "    high = highcut / nyquist\n",
    "    b, a = butter(order, [low, high], btype='band')\n",
    "    y = filtfilt(b, a, data)\n",
    "    return y\n",
    "\n",
    "# Define a function to update the plot for each frame of the animation\n",
    "def update(frame):\n",
    "    # Read the analog input from the Arduino board\n",
    "    y = analogInput.read()\n",
    "    y_data.append(y)\n",
    "    \n",
    "    # Filter the data using a band-pass filter\n",
    "    filtered_data = bandpass_filter(y_data, 5, 15, 1000, order=4)\n",
    "    \n",
    "    # Update the x and y data for the first line (raw data)\n",
    "    line1.set_xdata(np.arange(frame))\n",
    "    line1.set_ydata(y_data[0:frame])\n",
    "    \n",
    "    # Update the x and y data for the second line (filtered data)\n",
    "    line2.set_xdata(np.arange(frame))\n",
    "    line2.set_ydata(filtered_data[0:frame])\n",
    "\n",
    "    # Detect the QRS complex using the Pan-Tompkins algorithm\n",
    "    # Apply high-pass filter\n",
    "    b, a = butter(1, 5, btype='highpass', fs=1000)\n",
    "    y_filt = filtfilt(b, a, y_data)\n",
    "\n",
    "    # Apply low-pass filter\n",
    "    b, a = butter(4, 15, btype='lowpass', fs=1000)\n",
    "    y_filt = filtfilt(b, a, y_filt)\n",
    "\n",
    "    # Differentiate the signal\n",
    "    diff_sig = np.diff(y_filt)\n",
    "\n",
    "    # Square the differentiated signal\n",
    "    squared_sig = diff_sig**2\n",
    "\n",
    "    # Integrate the squared signal using a moving window integration\n",
    "    window_size = 0.15 # seconds\n",
    "    window_size_samples = int(window_size * 1000)\n",
    "    window = np.ones(window_size_samples)\n",
    "    integrated_sig = np.convolve(squared_sig, window, 'valid')\n",
    "\n",
    "    # Find the peaks in the integrated signal\n",
    "    peak_indices, _ = find_peaks(integrated_sig, height=0.1*np.max(integrated_sig))\n",
    "    peak_times = peak_indices / 1000.0\n",
    "\n",
    "    # Discard any peaks that are too close together (less than 0.3 seconds)\n",
    "    if len(peaks) > 0 and peak_times[0] - peaks[-1] < 0.3:\n",
    "        peak_times = peak_times[1:]\n",
    "        peak_indices = peak_indices[1:]\n",
    "\n",
    "    # Add the remaining peaks to the list of peaks\n",
    "    peaks.extend(peak_times)\n",
    "\n",
    "    # Update the x and y data for the third line (QRS complexes)\n",
    "    qrs_data = np.zeros(len(filtered_data))\n",
    "    qrs_data[peak_indices] = filtered_data[peak_indices]\n",
    "    line3.set_xdata(np.arange(frame))\n",
    "    line3.set_ydata(qrs_data[0:frame])\n",
    "\n",
    "    return line1, line2, line3\n",
    "\n",
    "\n",
    "    \n",
    "   \n"
   ]
  },
  {
   "cell_type": "code",
   "execution_count": null,
   "id": "6ef4f613",
   "metadata": {},
   "outputs": [],
   "source": [
    "# Import necessary libraries\n",
    "from matplotlib import pyplot as plt\n",
    "from matplotlib.animation import FuncAnimation\n",
    "import pyfirmata\n",
    "import numpy as np\n",
    "from scipy.signal import butter, filtfilt, find_peaks, correlate, resample\n",
    "from sklearn.cluster import KMeans"
   ]
  },
  {
   "cell_type": "markdown",
   "id": "ca16c3e2",
   "metadata": {},
   "source": [
    "# Initialize the Arduino board and pin for reading the analog input\n"
   ]
  },
  {
   "cell_type": "code",
   "execution_count": null,
   "id": "88b98704",
   "metadata": {},
   "outputs": [],
   "source": [
    "# Initialize the Arduino board and pin for reading the analog input\n",
    "board = pyfirmata.Arduino('/dev/cu.usbmodem11201') # Type Port Name here\n",
    "it = pyfirmata.util.Iterator(board)\n",
    "it.start()\n",
    "analogInput = board.get_pin('a:0:i') # Type pin number here, A0 input = a:0:i\n",
    "\n",
    "# Set up the figure and axes for plotting\n",
    "figure, ax = plt.subplots(nrows=1, ncols=1)\n",
    "plt.title('Real-time ECG Signal Processing')\n",
    "plt.xlabel('Time (s)')\n",
    "plt.ylabel('Voltage (mV)')\n",
    "windowSize = 10 # Type Window Size here\n",
    "\n",
    "ax.set_xlim([0, windowSize])\n",
    "ax.set_ylim([-1.5, 1.5])\n",
    "y_data = []\n",
    "peaks = []\n",
    "\n",
    "# Create empty lines for the three different data plots\n",
    "line1, = ax.plot([], [], 'b-')\n",
    "line2, = ax.plot([], [], 'r-')\n",
    "line3, = ax.plot([], [], 'g-')\n",
    "\n",
    "# Add legend to the plot\n",
    "ax.legend([line1, line2, line3], ['Raw Data', 'Filtered Data', 'QRS Complexes'])"
   ]
  },
  {
   "cell_type": "markdown",
   "id": "c9b1cc2a",
   "metadata": {},
   "source": [
    "# Define a function to smooth the data using a moving average filter\n"
   ]
  },
  {
   "cell_type": "code",
   "execution_count": null,
   "id": "b6c4cc8a",
   "metadata": {},
   "outputs": [],
   "source": [
    "# Define a function to smooth the data using a moving average filter\n",
    "def smooth(x, N):\n",
    "    cumSum = np.cumsum(np.insert(x, 0, 0))\n",
    "    return (cumSum[N:] - cumSum[:-N]) / float(N)"
   ]
  },
  {
   "cell_type": "markdown",
   "id": "5dd65a62",
   "metadata": {},
   "source": [
    "\n",
    "# Define a function to filter the data using a band-pass filter\n"
   ]
  },
  {
   "cell_type": "code",
   "execution_count": null,
   "id": "a048bd79",
   "metadata": {},
   "outputs": [],
   "source": [
    "def bandpass_filter(data, lowcut, highcut, fs, order=2):\n",
    "    nyquist = 0.5 * fs\n",
    "    low = lowcut / nyquist\n",
    "    high = highcut / nyquist\n",
    "    b, a = butter(order, [low, high], btype='band')\n",
    "    y = filtfilt(b, a, data)\n",
    "    return y"
   ]
  },
  {
   "cell_type": "markdown",
   "id": "15c8791e",
   "metadata": {},
   "source": [
    "# Define a function to update the plot for each frame of the animation\n"
   ]
  },
  {
   "cell_type": "code",
   "execution_count": null,
   "id": "fb17bfaa",
   "metadata": {},
   "outputs": [],
   "source": [
    "# Define a function to update the plot for each frame of the animation\n",
    "def update(frame):\n",
    "    # Read the analog input from the Arduino board\n",
    "    y = analogInput.read()\n",
    "    y_data.append(y)"
   ]
  },
  {
   "cell_type": "markdown",
   "id": "de274ead",
   "metadata": {},
   "source": [
    "## Filter the data using a band-pass filter\n"
   ]
  },
  {
   "cell_type": "code",
   "execution_count": null,
   "id": "bfc1fe75",
   "metadata": {},
   "outputs": [],
   "source": [
    " # Filter the data using a band-pass filter\n",
    "    filtered_data = bandpass_filter(y_data, 5, 15, 1000, order=4)\n",
    "    \n",
    "    # Update the x and y data for the first line (raw data)\n",
    "    line1.set_xdata(np.arange(frame))\n",
    "    line1.set_ydata(y_data[0:frame])\n",
    "    \n",
    "    # Update the x and y data for the second line (filtered data)\n",
    "    line2.set_xdata(np.arange(frame))\n",
    "    line2.set_ydata(filtered_data[0:frame])"
   ]
  },
  {
   "cell_type": "markdown",
   "id": "b82fd012",
   "metadata": {},
   "source": [
    "## Detect the QRS complex using the Pan-Tompkins algorithm\n"
   ]
  },
  {
   "cell_type": "code",
   "execution_count": null,
   "id": "51905017",
   "metadata": {},
   "outputs": [],
   "source": []
  }
 ],
 "metadata": {
  "kernelspec": {
   "display_name": "Python 3 (ipykernel)",
   "language": "python",
   "name": "python3"
  },
  "language_info": {
   "codemirror_mode": {
    "name": "ipython",
    "version": 3
   },
   "file_extension": ".py",
   "mimetype": "text/x-python",
   "name": "python",
   "nbconvert_exporter": "python",
   "pygments_lexer": "ipython3",
   "version": "3.9.13"
  }
 },
 "nbformat": 4,
 "nbformat_minor": 5
}
